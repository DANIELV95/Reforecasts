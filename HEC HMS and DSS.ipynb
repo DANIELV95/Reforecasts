{
 "cells": [
  {
   "cell_type": "code",
   "execution_count": 1,
   "id": "21060153",
   "metadata": {},
   "outputs": [],
   "source": [
    "import os\n",
    "import numpy as np\n",
    "import pandas as pd\n",
    "import matplotlib.pyplot as plt\n",
    "# import pcraster as pcr\n",
    "from osgeo import gdal\n",
    "import glob\n",
    "import netCDF4 as nc\n",
    "from mpl_toolkits.basemap import Basemap\n",
    "import datetime as dt\n",
    "from osgeo import gdal\n",
    "import rasterio\n",
    "from rasterio.plot import show\n",
    "import spotpy\n",
    "import pyodbc\n",
    "import shutil\n",
    "import pyhecdss #only for environment with Py3.7.11"
   ]
  },
  {
   "cell_type": "code",
   "execution_count": 2,
   "id": "6e1cba21",
   "metadata": {},
   "outputs": [
    {
     "data": {
      "text/plain": [
       "['CN', 'DATOS', 'DOCS', 'EVA', 'GIS', 'HMS', 'PYR', 'REPORTE', 'RTS', 'SSP']"
      ]
     },
     "execution_count": 2,
     "metadata": {},
     "output_type": "execute_result"
    }
   ],
   "source": [
    "os.chdir(\"D:/DANI/2021/TEMA4_PRONOSTICOS/\")\n",
    "os.listdir()"
   ]
  },
  {
   "cell_type": "code",
   "execution_count": 3,
   "id": "dbfca457",
   "metadata": {},
   "outputs": [
    {
     "name": "stdout",
     "output_type": "stream",
     "text": [
      "lt 2 5\n",
      "lt 3 6\n",
      "lt 4 7\n",
      "lt 5 8\n",
      "lt 6 9\n",
      "lt 7 10\n",
      "lt 8 11\n",
      "lt 9 12\n",
      "lt 10 13\n",
      "lt 11 14\n",
      "lt 12 15\n",
      "lt 13 16\n",
      "lt 14 17\n",
      "lt 15 18\n",
      "lt 16 19\n"
     ]
    }
   ],
   "source": [
    "#Import csv data to hecdss\n",
    "ensemble = [0,1,2,3,4,5,6,7,8,9]\n",
    "slt = [*range(2,17)]\n",
    "variables = ['P_228228', 'Rl_169-175', 'Rs_169-175', 'T_121-122', 'Ww_165-166']\n",
    "vars_dss = {'P_228228':'PRECIP-INC', 'Rl_169-175':'RADIATION-LONG', 'Rs_169-175':'RADIATION-SHORT', \n",
    "            'T_121-122':'TEMPERATURE', 'Ww_165-166':'WINDSPEED'}\n",
    "units_dss = {'P_228228':'MM', 'Rl_169-175':'WATT/M2', 'Rs_169-175':'WATT/M2', \n",
    "            'T_121-122':'DEG C', 'Ww_165-166':'M/S'}\n",
    "type_dss = {'P_228228':'PER-CUM', 'Rl_169-175':'PER-AVER', 'Rs_169-175':'PER-AVER', \n",
    "            'T_121-122':'PER-AVER', 'Ww_165-166':'INST-VAL'}\n",
    "\n",
    "for lt in slt:\n",
    "    # start_lt = 17\n",
    "    start_lt = lt\n",
    "    end_lt = start_lt + 3\n",
    "    print('lt', start_lt, end_lt)\n",
    "\n",
    "    fname=r'reforecasts'+str(start_lt)+str(end_lt)+'.dss'\n",
    "    d = pyhecdss.DSSFile('./PYR/HMS/DSS/'+fname, create_new=True)\n",
    "\n",
    "    for var in variables:\n",
    "        \n",
    "        #control forecasts\n",
    "        data = pd.read_csv('./DATOS/ECMWF/nc/csv/wa/c_'+var+'_lt'+str(start_lt)+str(end_lt)+'_wa.csv', parse_dates=['Unnamed: 0'])\n",
    "        data.index = data['Unnamed: 0']\n",
    "        data = data.drop(['Unnamed: 0'], axis=1)\n",
    "        data.index.name = None\n",
    "        data.index.freq = '1D'\n",
    "        \n",
    "#         for ens in ensemble:\n",
    "        Dataset = 'ECMWF-REF-ENS-00' #input('Dataset, A ')\n",
    "        Location = 'RIOLASILLA' #input('Location, B ')\n",
    "        Variable = vars_dss[var] #input('Variable, C ')\n",
    "        Timestep = '1Day' #input('Timestep, E ')\n",
    "        Units = units_dss[var] #input('Units ')\n",
    "        Type = type_dss[var] #input('Type' )\n",
    "        Comments = 'LT '+str(start_lt).zfill(2)+'-'+str(end_lt).zfill(2) #input('Comments, F ')\n",
    "#             path = '/SAMPLE/ITS1/RANDOM//IR-YEAR/SAMPLE2/'\n",
    "        path = '/'+Dataset+'/'+Location+'/'+Variable+'//'+Timestep+'/'+Comments+'/'\n",
    "        \n",
    "        data_dss = data['c']\n",
    "\n",
    "        d.write_rts(path, data_dss, Units, Type)\n",
    "        \n",
    "        #perturbed forecasts\n",
    "        data = pd.read_csv('./DATOS/ECMWF/nc/csv/wa/'+var+'_lt'+str(start_lt)+str(end_lt)+'_wa.csv', parse_dates=['Unnamed: 0'])\n",
    "        data.index = data['Unnamed: 0']\n",
    "        data = data.drop(['Unnamed: 0'], axis=1)\n",
    "        data.index.name = None\n",
    "        data.index.freq = '1D'\n",
    "\n",
    "        for ens in ensemble:\n",
    "            Dataset = 'ECMWF-REF-ENS-'+str(ens+1).zfill(2) #input('Dataset, A ')\n",
    "            path = '/'+Dataset+'/'+Location+'/'+Variable+'//'+Timestep+'/'+Comments+'/'\n",
    "            data_dss = data[str(ens+1)]\n",
    "\n",
    "            d.write_rts(path, data_dss, Units, Type)\n",
    "\n",
    "    d.close()"
   ]
  },
  {
   "cell_type": "code",
   "execution_count": null,
   "id": "7b91d1be",
   "metadata": {},
   "outputs": [],
   "source": []
  },
  {
   "cell_type": "markdown",
   "id": "642a4169",
   "metadata": {},
   "source": [
    "## Analysis of Results"
   ]
  },
  {
   "cell_type": "code",
   "execution_count": null,
   "id": "acfc7f3c",
   "metadata": {},
   "outputs": [],
   "source": []
  },
  {
   "cell_type": "code",
   "execution_count": null,
   "id": "28a36431",
   "metadata": {},
   "outputs": [],
   "source": []
  },
  {
   "cell_type": "code",
   "execution_count": null,
   "id": "f121a0cd",
   "metadata": {},
   "outputs": [],
   "source": []
  },
  {
   "cell_type": "code",
   "execution_count": null,
   "id": "bd55679c",
   "metadata": {},
   "outputs": [],
   "source": []
  },
  {
   "cell_type": "code",
   "execution_count": null,
   "id": "7a9253fb",
   "metadata": {},
   "outputs": [],
   "source": []
  },
  {
   "cell_type": "code",
   "execution_count": null,
   "id": "e2218876",
   "metadata": {},
   "outputs": [],
   "source": []
  }
 ],
 "metadata": {
  "kernelspec": {
   "display_name": "Python 3 (ipykernel)",
   "language": "python",
   "name": "python3"
  },
  "language_info": {
   "codemirror_mode": {
    "name": "ipython",
    "version": 3
   },
   "file_extension": ".py",
   "mimetype": "text/x-python",
   "name": "python",
   "nbconvert_exporter": "python",
   "pygments_lexer": "ipython3",
   "version": "3.7.12"
  }
 },
 "nbformat": 4,
 "nbformat_minor": 5
}
